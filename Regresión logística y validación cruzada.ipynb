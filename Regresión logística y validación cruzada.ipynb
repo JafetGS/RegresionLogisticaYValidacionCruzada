{
 "cells": [
  {
   "cell_type": "markdown",
   "id": "d832b448-add1-42da-9c08-ea27a79bffb9",
   "metadata": {},
   "source": [
    "# Diego Jafet Garza Segovia - Regresión logística y validación cruzada\n",
    "\n",
    "Dentro del siguiente documento, se trabajara con una base de datos sobre el cancer de mama, el cual se puede importar desde sklearn.datasets. Adicionalmente se requerira importar la libreria de pandas (pd)\n",
    "\n",
    "Para mayor entendimiento de esta base de datos, y ver si requiere de alguna modificacion, se imprimira las dimensiones del data frame, el tipo y nombre de sus variables, y las primeras 5 filas de datos."
   ]
  },
  {
   "cell_type": "code",
   "execution_count": 2,
   "id": "4bf4e132-b926-4064-b113-be249b42abc3",
   "metadata": {},
   "outputs": [
    {
     "name": "stdout",
     "output_type": "stream",
     "text": [
      "Dimensiones del data frame:  (569, 30)\n",
      "\n",
      "Tipo y nombre de datos: \n",
      " mean radius                float64\n",
      "mean texture               float64\n",
      "mean perimeter             float64\n",
      "mean area                  float64\n",
      "mean smoothness            float64\n",
      "mean compactness           float64\n",
      "mean concavity             float64\n",
      "mean concave points        float64\n",
      "mean symmetry              float64\n",
      "mean fractal dimension     float64\n",
      "radius error               float64\n",
      "texture error              float64\n",
      "perimeter error            float64\n",
      "area error                 float64\n",
      "smoothness error           float64\n",
      "compactness error          float64\n",
      "concavity error            float64\n",
      "concave points error       float64\n",
      "symmetry error             float64\n",
      "fractal dimension error    float64\n",
      "worst radius               float64\n",
      "worst texture              float64\n",
      "worst perimeter            float64\n",
      "worst area                 float64\n",
      "worst smoothness           float64\n",
      "worst compactness          float64\n",
      "worst concavity            float64\n",
      "worst concave points       float64\n",
      "worst symmetry             float64\n",
      "worst fractal dimension    float64\n",
      "dtype: object\n",
      "\n",
      "    mean radius  mean texture  mean perimeter  mean area  mean smoothness  \\\n",
      "0        17.99         10.38          122.80     1001.0          0.11840   \n",
      "1        20.57         17.77          132.90     1326.0          0.08474   \n",
      "2        19.69         21.25          130.00     1203.0          0.10960   \n",
      "3        11.42         20.38           77.58      386.1          0.14250   \n",
      "4        20.29         14.34          135.10     1297.0          0.10030   \n",
      "\n",
      "   mean compactness  mean concavity  mean concave points  mean symmetry  \\\n",
      "0           0.27760          0.3001              0.14710         0.2419   \n",
      "1           0.07864          0.0869              0.07017         0.1812   \n",
      "2           0.15990          0.1974              0.12790         0.2069   \n",
      "3           0.28390          0.2414              0.10520         0.2597   \n",
      "4           0.13280          0.1980              0.10430         0.1809   \n",
      "\n",
      "   mean fractal dimension  ...  worst texture  worst perimeter  worst area  \\\n",
      "0                 0.07871  ...          17.33           184.60      2019.0   \n",
      "1                 0.05667  ...          23.41           158.80      1956.0   \n",
      "2                 0.05999  ...          25.53           152.50      1709.0   \n",
      "3                 0.09744  ...          26.50            98.87       567.7   \n",
      "4                 0.05883  ...          16.67           152.20      1575.0   \n",
      "\n",
      "   worst smoothness  worst compactness  worst concavity  worst concave points  \\\n",
      "0            0.1622             0.6656           0.7119                0.2654   \n",
      "1            0.1238             0.1866           0.2416                0.1860   \n",
      "2            0.1444             0.4245           0.4504                0.2430   \n",
      "3            0.2098             0.8663           0.6869                0.2575   \n",
      "4            0.1374             0.2050           0.4000                0.1625   \n",
      "\n",
      "   worst symmetry  worst fractal dimension  target  \n",
      "0          0.4601                  0.11890       0  \n",
      "1          0.2750                  0.08902       0  \n",
      "2          0.3613                  0.08758       0  \n",
      "3          0.6638                  0.17300       0  \n",
      "4          0.2364                  0.07678       0  \n",
      "\n",
      "[5 rows x 31 columns]\n"
     ]
    }
   ],
   "source": [
    "import pandas as pd\n",
    "from sklearn.datasets import load_breast_cancer\n",
    "\n",
    "data = load_breast_cancer()\n",
    "df = pd.DataFrame(data.data, columns=data.feature_names)\n",
    "print(\"Dimensiones del data frame: \", df.shape)\n",
    "print(\"\\nTipo y nombre de datos: \\n\", df.dtypes)\n",
    "df[\"target\"] = data.target\n",
    "print(\"\\n\", df.head())"
   ]
  },
  {
   "cell_type": "markdown",
   "id": "16cfc50e-9c10-48ed-8f82-f3f9dc107b0b",
   "metadata": {},
   "source": [
    "Segun la base de datos, se puede ver que no parece tener variables categoricas ni huecos aparentes, por lo que no se requieren hacer modificaciones y esta listo para analizar.\n",
    "\n",
    "Particularmente, la variable de interes sera \"target\", el cual es binario donde 1 representa que tiene cancer de mama, mientras que 0 representan los que no.\n",
    "\n",
    "Ahora, se dividiran los datos en datos de entrenamiento y de prueba con una relacion del 80% y 20% de manera aleatoria. Para poder realizar esto se debera importar la funcion train_test_split de sklearn.model_selection.\n",
    "\n",
    "Sin embargo, para poder mantener una proporcion equitativa tanto en los datos de entrenamiento como prueba, se debe de agregar el parametro \"stratify = df.target) al hacer la separacion."
   ]
  },
  {
   "cell_type": "code",
   "execution_count": 3,
   "id": "ba1459e5-f29c-4881-98d3-acb155446ad7",
   "metadata": {},
   "outputs": [
    {
     "name": "stdout",
     "output_type": "stream",
     "text": [
      "Original:\n",
      " target\n",
      "1    0.627417\n",
      "0    0.372583\n",
      "Name: proportion, dtype: float64\n",
      "\n",
      "Entrenamiento:\n",
      " target\n",
      "1    0.626374\n",
      "0    0.373626\n",
      "Name: proportion, dtype: float64\n",
      "\n",
      "Prueba:\n",
      " target\n",
      "1    0.631579\n",
      "0    0.368421\n",
      "Name: proportion, dtype: float64\n"
     ]
    }
   ],
   "source": [
    "from sklearn.model_selection import train_test_split\n",
    "\n",
    "xEntre, xPrueba, yEntre, yPrueba = train_test_split(df.drop(columns = \"target\"), df.target, train_size = 0.8, stratify = df.target)\n",
    "\n",
    "print(\"Original:\\n\", df.target.value_counts(normalize = True))\n",
    "print(\"\\nEntrenamiento:\\n\", yEntre.value_counts(normalize = True))\n",
    "print(\"\\nPrueba:\\n\", yPrueba.value_counts(normalize = True))"
   ]
  },
  {
   "cell_type": "markdown",
   "id": "a4e7c469-1e1d-4916-ab2c-c37fdd433057",
   "metadata": {},
   "source": [
    "Se puede ver que en los resultados de las proporciones de 1's y 0's en los tres tipos de datos son equitativas, con un valor aproximado de 0.62 y de 0.37 respectivamente. Esto nos permite adecuadamente entrenar un modelo sin correr el riesgo de que el modelo de entrenamiento unicamente se base en una mayoria de 1's o 0's.\n",
    "\n",
    "Ahora, se medira la exactitud de un modelo de regresion logistica utilizando la tecnica de validacion cruzada de K-Folds. Para esto se debera importar las funciones de LogisticRegression, KFold y cross_val_score de sklearn.linear_model y de sklearn.model_selection respectivamente. Se utilizara una regresion logistica y no lineal o de otro tipo debido a la naturaleza del tipo de dato de \"target\". \n",
    "\n",
    "Para disminuir la cantidad del tiempo de procesamiento y poder realizar todas las iteraciones que puedan haber, se utilizara en la funcion de LogisticRegression los parametros penalty = l2, y max_iter = 10000.\n",
    "\n",
    "Con el mismo proposito de disminuir la cantidad de procesamiento por realizar, se utilizaran n_splits = 5, significando unicamente 5 folds (modelos)."
   ]
  },
  {
   "cell_type": "code",
   "execution_count": 4,
   "id": "f0ddbeb9-040e-4f00-bbc2-6bf3b28efd49",
   "metadata": {},
   "outputs": [
    {
     "name": "stdout",
     "output_type": "stream",
     "text": [
      "Exactitud por modelo: [0.94505495 0.94505495 0.94505495 0.96703297 0.92307692]\n",
      "Exactitud promedio: 0.945054945054945\n"
     ]
    }
   ],
   "source": [
    "from sklearn.linear_model import LogisticRegression\n",
    "from sklearn.model_selection import KFold, cross_val_score\n",
    "import numpy as np\n",
    "\n",
    "modelo = LogisticRegression(penalty = \"l2\", class_weight = \"balanced\", max_iter = 10000)\n",
    "\n",
    "kf = KFold(n_splits = 5, shuffle = True)\n",
    "scores = cross_val_score(modelo, xEntre, yEntre, cv = kf, scoring = \"accuracy\")\n",
    "\n",
    "print(\"Exactitud por modelo:\", scores)\n",
    "print(\"Exactitud promedio:\", np.mean(scores))"
   ]
  },
  {
   "cell_type": "markdown",
   "id": "d4d77bd9-711f-4b8f-bda7-560e238a9592",
   "metadata": {},
   "source": [
    "En los resultados pasados, podemos ver que cada uno de los folds tiene una exactitud mayor a 0.90, lo cual significa que en promedio se genera un modelo que es capaz de consistentemente obtener las respuestas correctas. Viendo esto, hace sentido que la exactitud promedio de los modelos sea igual a 0.94.\n",
    "\n",
    "Sabiendo esto, podemos ahora entrenar un modelo de regresion logistica con la seguridad de que se generara un modelo con una exactitud de calidad. Adicionalmente, se generara una matriz de confusion y se calculara la exactitud, sensibilidad y la especificidad para el modelo. En total, se generaran 3 modelos con distintos umbrales, 0.3, 0.5 y 0.7. Es decir, el modelo evaluara la probabilidad de que sea 1 a partir de 0.3 como 1 (o 0.5 / 0.7 respectivamente).\n",
    "\n",
    "Para esto se debera importar las funciones confusion_matriz y ConfusionMatrixDisplay (cmd) de sklearn.metrics"
   ]
  },
  {
   "cell_type": "code",
   "execution_count": 8,
   "id": "e8cb16ac-807d-416b-bcb4-54ee63bfa5c8",
   "metadata": {},
   "outputs": [
    {
     "name": "stdout",
     "output_type": "stream",
     "text": [
      "Umbral 0.3\n"
     ]
    },
    {
     "data": {
      "image/png": "[encoded data removed]",
      "text/plain": [
       "<Figure size 640x480 with 2 Axes>"
      ]
     },
     "metadata": {},
     "output_type": "display_data"
    },
    {
     "name": "stdout",
     "output_type": "stream",
     "text": [
      "Exactitud: 0.9736842105263158\n",
      "Sensibilidad: 0.9861111111111112\n",
      "Especificidad: 0.9523809523809523\n",
      "\n",
      "Umbral 0.5\n"
     ]
    },
    {
     "data": {
      "image/png": "[encoded data removed]",
      "text/plain": [
       "<Figure size 640x480 with 2 Axes>"
      ]
     },
     "metadata": {},
     "output_type": "display_data"
    },
    {
     "name": "stdout",
     "output_type": "stream",
     "text": [
      "Exactitud: 0.9649122807017544\n",
      "Sensibilidad: 0.9722222222222222\n",
      "Especificidad: 0.9523809523809523\n",
      "\n",
      "Umbral 0.7\n"
     ]
    },
    {
     "data": {
      "image/png": "[encoded data removed]",
      "text/plain": [
       "<Figure size 640x480 with 2 Axes>"
      ]
     },
     "metadata": {},
     "output_type": "display_data"
    },
    {
     "name": "stdout",
     "output_type": "stream",
     "text": [
      "Exactitud: 0.956140350877193\n",
      "Sensibilidad: 0.9583333333333334\n",
      "Especificidad: 0.9523809523809523\n",
      "\n"
     ]
    }
   ],
   "source": [
    "from sklearn.metrics import confusion_matrix \n",
    "from sklearn.metrics import ConfusionMatrixDisplay as cmd\n",
    "import matplotlib.pyplot as plt\n",
    "\n",
    "modelo.fit(xEntre, yEntre)\n",
    "\n",
    "yGorrito = modelo.predict_proba(xPrueba)[:, 1]\n",
    "\n",
    "umbrales = [0.3, 0.5, 0.7]\n",
    "for u in umbrales:\n",
    "    print(\"Umbral\", u)\n",
    "\n",
    "    pred = (yGorrito >= u)\n",
    "\n",
    "    cm = confusion_matrix(yPrueba, pred)\n",
    "    cmd(confusion_matrix = cm, display_labels = modelo.classes_).plot(xticks_rotation = \"vertical\");\n",
    "    plt.show()\n",
    "\n",
    "    tn, fp, fn, tp = cm.ravel()\n",
    "\n",
    "    acc = (tp + tn) / (tp + tn + fp + fn)\n",
    "    sensibilidad = tp / (tp + fn)\n",
    "    especificidad = tn / (tn + fp)\n",
    "    \n",
    "    print(\"Exactitud:\", acc)\n",
    "    print(\"Sensibilidad:\", sensibilidad)\n",
    "    print(\"Especificidad:\", especificidad)\n",
    "    print()"
   ]
  },
  {
   "cell_type": "markdown",
   "id": "1557afa0-a60a-42ee-994e-1666d0431af1",
   "metadata": {},
   "source": [
    "Se pueden ver tres resultados distintos, ya que aunque cada uno de los modelos tienen una exactitud aproximada de 0.95, la sensibilidad del modelo con el umbral de 0.3 es el mas alto y este va disminuyendo conforme el umbral crece, mientras que para la especificidad es alreves. \n",
    "\n",
    "Aun asi, en promedio los tres valores de los tres modelos tienen un alto grado de similitud, significando que cualquiera de los tres modelos podria ser adecuado para su uso.\n",
    "\n",
    "Para poder visualizar mejor estos datos se generara una Curva ROC con base a estos modelos, y debido a la naturaleza de la Curva ROC, tambien los de distintos umbrales. \n",
    "Para esto se requeriran las funciones roc_curve y roc_auc_score de sklearn.metrics\n",
    "\n",
    "Adicionalmente se calculara el area bajo la curva generada."
   ]
  },
  {
   "cell_type": "code",
   "execution_count": 13,
   "id": "39cf2abd-da4d-4a67-a40e-e6d480f616d3",
   "metadata": {},
   "outputs": [
    {
     "data": {
      "image/png": "[encoded data removed]",
      "text/plain": [
       "<Figure size 640x480 with 1 Axes>"
      ]
     },
     "metadata": {},
     "output_type": "display_data"
    },
    {
     "name": "stdout",
     "output_type": "stream",
     "text": [
      "AUC: 0.9963624338624338\n"
     ]
    }
   ],
   "source": [
    "from sklearn.metrics import roc_curve, roc_auc_score\n",
    "\n",
    "fpr, tpr, umbrales = roc_curve(yPrueba, yGorrito)\n",
    "\n",
    "auc = roc_auc_score(yPrueba, yGorrito)\n",
    "\n",
    "plt.plot(fpr, tpr, label=f\"ROC (AUC = {auc:.3f})\")\n",
    "plt.xlabel(\"Falsos positivos\")\n",
    "plt.ylabel(\"Verdaderos positivos\")\n",
    "plt.title(\"Curva ROC\")\n",
    "plt.grid(True)\n",
    "plt.show()\n",
    "\n",
    "print(\"AUC:\", auc)"
   ]
  },
  {
   "cell_type": "markdown",
   "id": "2fe89f21-2823-4b19-ba68-915782a38cba",
   "metadata": {},
   "source": [
    "En la gráfica resultante, podemos ver como el modelo pareciera estar compuesta por dos lineas rectas unidas por una curva pequeña, el cual es ideal ya que significa que independientemente de su sensibilidad / especificidad, seguira acertando correctamente en la gran mayoria de los casos. En este caso en particular, de un aproximado del 99.6%. El unico aspecto negativo que conlleva este valor, es la posibilidad de sobreajuste. Es decir, que el modelo ya no podria predecir adecuadamente los resultados de nuevos datos.\n",
    "\n",
    "Para poder ver de manera mas particular como es que cada variable afecta en la salida, se generara una tabla de las variables y sus coeficientes respectivos. Para mayor facilidad de visualizacion y entendimiento, seran ordenados de mayor a menor."
   ]
  },
  {
   "cell_type": "code",
   "execution_count": 14,
   "id": "341dd86a-65ac-43cc-b680-ee5899344772",
   "metadata": {},
   "outputs": [
    {
     "name": "stdout",
     "output_type": "stream",
     "text": [
      "\n",
      "Coeficientes del modelo logístico:\n"
     ]
    },
    {
     "data": {
      "text/html": [
       "<div>\n",
       "<style scoped>\n",
       "    .dataframe tbody tr th:only-of-type {\n",
       "        vertical-align: middle;\n",
       "    }\n",
       "\n",
       "    .dataframe tbody tr th {\n",
       "        vertical-align: top;\n",
       "    }\n",
       "\n",
       "    .dataframe thead th {\n",
       "        text-align: right;\n",
       "    }\n",
       "</style>\n",
       "<table border=\"1\" class=\"dataframe\">\n",
       "  <thead>\n",
       "    <tr style=\"text-align: right;\">\n",
       "      <th></th>\n",
       "      <th>Variable</th>\n",
       "      <th>Coeficiente</th>\n",
       "    </tr>\n",
       "  </thead>\n",
       "  <tbody>\n",
       "    <tr>\n",
       "      <th>0</th>\n",
       "      <td>mean radius</td>\n",
       "      <td>1.101948</td>\n",
       "    </tr>\n",
       "    <tr>\n",
       "      <th>11</th>\n",
       "      <td>texture error</td>\n",
       "      <td>1.077086</td>\n",
       "    </tr>\n",
       "    <tr>\n",
       "      <th>20</th>\n",
       "      <td>worst radius</td>\n",
       "      <td>0.214612</td>\n",
       "    </tr>\n",
       "    <tr>\n",
       "      <th>1</th>\n",
       "      <td>mean texture</td>\n",
       "      <td>0.156474</td>\n",
       "    </tr>\n",
       "    <tr>\n",
       "      <th>15</th>\n",
       "      <td>compactness error</td>\n",
       "      <td>0.065077</td>\n",
       "    </tr>\n",
       "    <tr>\n",
       "      <th>3</th>\n",
       "      <td>mean area</td>\n",
       "      <td>0.016733</td>\n",
       "    </tr>\n",
       "    <tr>\n",
       "      <th>19</th>\n",
       "      <td>fractal dimension error</td>\n",
       "      <td>0.012531</td>\n",
       "    </tr>\n",
       "    <tr>\n",
       "      <th>12</th>\n",
       "      <td>perimeter error</td>\n",
       "      <td>0.000981</td>\n",
       "    </tr>\n",
       "    <tr>\n",
       "      <th>16</th>\n",
       "      <td>concavity error</td>\n",
       "      <td>-0.003548</td>\n",
       "    </tr>\n",
       "    <tr>\n",
       "      <th>23</th>\n",
       "      <td>worst area</td>\n",
       "      <td>-0.011691</td>\n",
       "    </tr>\n",
       "    <tr>\n",
       "      <th>14</th>\n",
       "      <td>smoothness error</td>\n",
       "      <td>-0.018552</td>\n",
       "    </tr>\n",
       "    <tr>\n",
       "      <th>9</th>\n",
       "      <td>mean fractal dimension</td>\n",
       "      <td>-0.024612</td>\n",
       "    </tr>\n",
       "    <tr>\n",
       "      <th>17</th>\n",
       "      <td>concave points error</td>\n",
       "      <td>-0.032669</td>\n",
       "    </tr>\n",
       "    <tr>\n",
       "      <th>18</th>\n",
       "      <td>symmetry error</td>\n",
       "      <td>-0.038970</td>\n",
       "    </tr>\n",
       "    <tr>\n",
       "      <th>29</th>\n",
       "      <td>worst fractal dimension</td>\n",
       "      <td>-0.082910</td>\n",
       "    </tr>\n",
       "    <tr>\n",
       "      <th>10</th>\n",
       "      <td>radius error</td>\n",
       "      <td>-0.095100</td>\n",
       "    </tr>\n",
       "    <tr>\n",
       "      <th>13</th>\n",
       "      <td>area error</td>\n",
       "      <td>-0.111485</td>\n",
       "    </tr>\n",
       "    <tr>\n",
       "      <th>2</th>\n",
       "      <td>mean perimeter</td>\n",
       "      <td>-0.162881</td>\n",
       "    </tr>\n",
       "    <tr>\n",
       "      <th>4</th>\n",
       "      <td>mean smoothness</td>\n",
       "      <td>-0.173205</td>\n",
       "    </tr>\n",
       "    <tr>\n",
       "      <th>22</th>\n",
       "      <td>worst perimeter</td>\n",
       "      <td>-0.187269</td>\n",
       "    </tr>\n",
       "    <tr>\n",
       "      <th>5</th>\n",
       "      <td>mean compactness</td>\n",
       "      <td>-0.222328</td>\n",
       "    </tr>\n",
       "    <tr>\n",
       "      <th>7</th>\n",
       "      <td>mean concave points</td>\n",
       "      <td>-0.260556</td>\n",
       "    </tr>\n",
       "    <tr>\n",
       "      <th>8</th>\n",
       "      <td>mean symmetry</td>\n",
       "      <td>-0.281116</td>\n",
       "    </tr>\n",
       "    <tr>\n",
       "      <th>24</th>\n",
       "      <td>worst smoothness</td>\n",
       "      <td>-0.320747</td>\n",
       "    </tr>\n",
       "    <tr>\n",
       "      <th>21</th>\n",
       "      <td>worst texture</td>\n",
       "      <td>-0.410759</td>\n",
       "    </tr>\n",
       "    <tr>\n",
       "      <th>6</th>\n",
       "      <td>mean concavity</td>\n",
       "      <td>-0.463868</td>\n",
       "    </tr>\n",
       "    <tr>\n",
       "      <th>27</th>\n",
       "      <td>worst concave points</td>\n",
       "      <td>-0.528932</td>\n",
       "    </tr>\n",
       "    <tr>\n",
       "      <th>25</th>\n",
       "      <td>worst compactness</td>\n",
       "      <td>-0.648704</td>\n",
       "    </tr>\n",
       "    <tr>\n",
       "      <th>28</th>\n",
       "      <td>worst symmetry</td>\n",
       "      <td>-0.712931</td>\n",
       "    </tr>\n",
       "    <tr>\n",
       "      <th>26</th>\n",
       "      <td>worst concavity</td>\n",
       "      <td>-1.190507</td>\n",
       "    </tr>\n",
       "  </tbody>\n",
       "</table>\n",
       "</div>"
      ],
      "text/plain": [
       "                   Variable  Coeficiente\n",
       "0               mean radius     1.101948\n",
       "11            texture error     1.077086\n",
       "20             worst radius     0.214612\n",
       "1              mean texture     0.156474\n",
       "15        compactness error     0.065077\n",
       "3                 mean area     0.016733\n",
       "19  fractal dimension error     0.012531\n",
       "12          perimeter error     0.000981\n",
       "16          concavity error    -0.003548\n",
       "23               worst area    -0.011691\n",
       "14         smoothness error    -0.018552\n",
       "9    mean fractal dimension    -0.024612\n",
       "17     concave points error    -0.032669\n",
       "18           symmetry error    -0.038970\n",
       "29  worst fractal dimension    -0.082910\n",
       "10             radius error    -0.095100\n",
       "13               area error    -0.111485\n",
       "2            mean perimeter    -0.162881\n",
       "4           mean smoothness    -0.173205\n",
       "22          worst perimeter    -0.187269\n",
       "5          mean compactness    -0.222328\n",
       "7       mean concave points    -0.260556\n",
       "8             mean symmetry    -0.281116\n",
       "24         worst smoothness    -0.320747\n",
       "21            worst texture    -0.410759\n",
       "6            mean concavity    -0.463868\n",
       "27     worst concave points    -0.528932\n",
       "25        worst compactness    -0.648704\n",
       "28           worst symmetry    -0.712931\n",
       "26          worst concavity    -1.190507"
      ]
     },
     "metadata": {},
     "output_type": "display_data"
    }
   ],
   "source": [
    "coef = modelo.coef_[0]\n",
    "\n",
    "tabla_coef = pd.DataFrame({\n",
    "    \"Variable\": xEntre.columns,  \n",
    "    \"Coeficiente\": coef,\n",
    "})\n",
    "\n",
    "print(\"\\nCoeficientes del modelo logístico:\")\n",
    "display(tabla_coef.sort_values(\"Coeficiente\", ascending = False))"
   ]
  },
  {
   "cell_type": "markdown",
   "id": "27484e5f-562c-4e5c-8d04-1cd97f92edd5",
   "metadata": {},
   "source": [
    "Dentro de los coeficientes resultantes, se puede ver que hay varios coeficientes con un valor aproximado a 0, como mean area (0.020931), compactness error (0.006029), y fractal dimension error\t(0.002393), los cuales son las variables que MENOS afectan el resultado final en si se predice si es 1 o 0.\n",
    "\n",
    "Mientras tanto, las caracteristicas que MAS influyen en la generacion del cancer de mama son el mean radius (1.10), worst radius (0.77), y el perimeter error (0.61). Por el otro lado, las variables que disminuyen la probabilidad de que el tumor sea maligno son worst concave points (-0.47), worst compactness (-0.50), y el worst concavity (-1.10).\n"
   ]
  },
  {
   "cell_type": "code",
   "execution_count": null,
   "id": "79387b94-35ae-45d8-9704-e94328631241",
   "metadata": {},
   "outputs": [],
   "source": []
  },
  {
   "cell_type": "code",
   "execution_count": null,
   "id": "392cdc7f-64b3-49fc-a1ad-978c2485e34c",
   "metadata": {},
   "outputs": [],
   "source": []
  }
 ],
 "metadata": {
  "kernelspec": {
   "display_name": "Python [conda env:base] *",
   "language": "python",
   "name": "conda-base-py"
  },
  "language_info": {
   "codemirror_mode": {
    "name": "ipython",
    "version": 3
   },
   "file_extension": ".py",
   "mimetype": "text/x-python",
   "name": "python",
   "nbconvert_exporter": "python",
   "pygments_lexer": "ipython3",
   "version": "3.13.5"
  }
 },
 "nbformat": 4,
 "nbformat_minor": 5
}
